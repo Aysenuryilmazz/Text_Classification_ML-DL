{
 "cells": [
  {
   "cell_type": "code",
   "execution_count": 1,
   "metadata": {
    "_cell_guid": "b1076dfc-b9ad-4769-8c92-a6c4dae69d19",
    "_uuid": "8f2839f25d086af736a60e9eeb907d3b93b6e0e5",
    "execution": {
     "iopub.execute_input": "2020-08-24T17:55:23.183906Z",
     "iopub.status.busy": "2020-08-24T17:55:23.183096Z",
     "iopub.status.idle": "2020-08-24T17:55:24.152856Z",
     "shell.execute_reply": "2020-08-24T17:55:24.151998Z"
    },
    "papermill": {
     "duration": 0.983666,
     "end_time": "2020-08-24T17:55:24.153053",
     "exception": false,
     "start_time": "2020-08-24T17:55:23.169387",
     "status": "completed"
    },
    "tags": []
   },
   "outputs": [],
   "source": [
    "import pickle\n",
    "import pandas as pd\n",
    "import numpy as np\n",
    "import string\n",
    "import gzip\n",
    "import seaborn as sns\n",
    "import matplotlib.pyplot as plt"
   ]
  },
  {
   "cell_type": "code",
   "execution_count": 2,
   "metadata": {
    "_cell_guid": "79c7e3d0-c299-4dcb-8224-4455121ee9b0",
    "_uuid": "d629ff2d2480ee46fbb7e2d37f6b5fab8052498a",
    "execution": {
     "iopub.execute_input": "2020-08-24T17:55:24.177551Z",
     "iopub.status.busy": "2020-08-24T17:55:24.176570Z",
     "iopub.status.idle": "2020-08-24T17:55:24.204529Z",
     "shell.execute_reply": "2020-08-24T17:55:24.203677Z"
    },
    "papermill": {
     "duration": 0.044652,
     "end_time": "2020-08-24T17:55:24.204685",
     "exception": false,
     "start_time": "2020-08-24T17:55:24.160033",
     "status": "completed"
    },
    "tags": []
   },
   "outputs": [],
   "source": [
    "#load datasets\n",
    "\n",
    "\n",
    "with gzip.open(\"../input/text-classification-4-1-naive-bayes/nb_results.pkl\", 'rb') as data:\n",
    "    nb = pickle.load(data)\n",
    "    \n",
    "    \n",
    "with gzip.open(\"../input/text-classification-4-2-rf/rf_results.pkl\", 'rb') as data:\n",
    "    rf = pickle.load(data)\n",
    "    \n",
    "#here svm_results.pkl is a typo. it is the results of logit\n",
    "with gzip.open(\"../input/text-classification-4-3-logistic-regression/svm_results.pkl\", 'rb') as data:\n",
    "    logit = pickle.load(data)\n",
    "\n",
    "    \n",
    "with gzip.open(\"../input/text-classification-4-5-xgboost-classifier/xgb_results.pkl\", 'rb') as data:\n",
    "    xg = pickle.load(data)\n",
    "\n",
    "\n",
    "with gzip.open(\"../input/text-classification-4-6-word-embedding-nnvanilla/vanilla_nn_results.pkl\", 'rb') as data:\n",
    "    vanilla_nn = pickle.load(data)\n",
    "    \n",
    "    \n",
    "with gzip.open(\"../input/text-classification-4-7-cnn-glove-6b-50d/glove_cnn_results.pkl\", 'rb') as data:\n",
    "    cnn = pickle.load(data)\n",
    "    \n",
    "#maybe svm if we can see the output:(\n",
    "#with gzip.open(\"../input/text-classification-3-2-text-representation/x_train_tfidf.pkl\", 'rb') as data:\n",
    "#    x_train_tfidf = pickle.load(data)\n",
    "       \n",
    "        "
   ]
  },
  {
   "cell_type": "code",
   "execution_count": 3,
   "metadata": {
    "execution": {
     "iopub.execute_input": "2020-08-24T17:55:24.229033Z",
     "iopub.status.busy": "2020-08-24T17:55:24.228252Z",
     "iopub.status.idle": "2020-08-24T17:55:24.255376Z",
     "shell.execute_reply": "2020-08-24T17:55:24.254566Z"
    },
    "papermill": {
     "duration": 0.04335,
     "end_time": "2020-08-24T17:55:24.255509",
     "exception": false,
     "start_time": "2020-08-24T17:55:24.212159",
     "status": "completed"
    },
    "tags": []
   },
   "outputs": [],
   "source": [
    "nb['model_name'] = 'nb_' + nb['model_name'].astype(str)\n",
    "rf['model_name'] = 'rf_' + rf['model_name'].astype(str)\n",
    "logit['model_name'] = 'logit_' + logit['model_name'].astype(str)\n",
    "xg['model_name'] = 'xg_' + xg['model_name'].astype(str)\n"
   ]
  },
  {
   "cell_type": "code",
   "execution_count": 4,
   "metadata": {
    "execution": {
     "iopub.execute_input": "2020-08-24T17:55:24.277970Z",
     "iopub.status.busy": "2020-08-24T17:55:24.277124Z",
     "iopub.status.idle": "2020-08-24T17:55:24.281205Z",
     "shell.execute_reply": "2020-08-24T17:55:24.280589Z"
    },
    "papermill": {
     "duration": 0.01912,
     "end_time": "2020-08-24T17:55:24.281337",
     "exception": false,
     "start_time": "2020-08-24T17:55:24.262217",
     "status": "completed"
    },
    "tags": []
   },
   "outputs": [],
   "source": [
    "all_df=pd.concat([nb, rf, logit, xg, vanilla_nn, cnn], axis=0).set_index('model_name')"
   ]
  },
  {
   "cell_type": "code",
   "execution_count": 5,
   "metadata": {
    "execution": {
     "iopub.execute_input": "2020-08-24T17:55:24.307855Z",
     "iopub.status.busy": "2020-08-24T17:55:24.307115Z",
     "iopub.status.idle": "2020-08-24T17:55:24.317726Z",
     "shell.execute_reply": "2020-08-24T17:55:24.317105Z"
    },
    "papermill": {
     "duration": 0.02976,
     "end_time": "2020-08-24T17:55:24.317859",
     "exception": false,
     "start_time": "2020-08-24T17:55:24.288099",
     "status": "completed"
    },
    "tags": []
   },
   "outputs": [
    {
     "data": {
      "text/html": [
       "<div>\n",
       "<style scoped>\n",
       "    .dataframe tbody tr th:only-of-type {\n",
       "        vertical-align: middle;\n",
       "    }\n",
       "\n",
       "    .dataframe tbody tr th {\n",
       "        vertical-align: top;\n",
       "    }\n",
       "\n",
       "    .dataframe thead th {\n",
       "        text-align: right;\n",
       "    }\n",
       "</style>\n",
       "<table border=\"1\" class=\"dataframe\">\n",
       "  <thead>\n",
       "    <tr style=\"text-align: right;\">\n",
       "      <th></th>\n",
       "      <th>train_acc</th>\n",
       "      <th>test_acc</th>\n",
       "    </tr>\n",
       "    <tr>\n",
       "      <th>model_name</th>\n",
       "      <th></th>\n",
       "      <th></th>\n",
       "    </tr>\n",
       "  </thead>\n",
       "  <tbody>\n",
       "    <tr>\n",
       "      <th>nb_one_hot</th>\n",
       "      <td>0.812101</td>\n",
       "      <td>0.809651</td>\n",
       "    </tr>\n",
       "    <tr>\n",
       "      <th>nb_bow</th>\n",
       "      <td>0.824093</td>\n",
       "      <td>0.820996</td>\n",
       "    </tr>\n",
       "    <tr>\n",
       "      <th>nb_tf-idf</th>\n",
       "      <td>0.803660</td>\n",
       "      <td>0.804587</td>\n",
       "    </tr>\n",
       "    <tr>\n",
       "      <th>rf_one_hot</th>\n",
       "      <td>0.892471</td>\n",
       "      <td>0.918115</td>\n",
       "    </tr>\n",
       "    <tr>\n",
       "      <th>rf_bow</th>\n",
       "      <td>0.897373</td>\n",
       "      <td>0.920911</td>\n",
       "    </tr>\n",
       "    <tr>\n",
       "      <th>rf_tf-idf</th>\n",
       "      <td>0.898481</td>\n",
       "      <td>0.920060</td>\n",
       "    </tr>\n",
       "    <tr>\n",
       "      <th>logit_one_hot</th>\n",
       "      <td>0.835843</td>\n",
       "      <td>0.836109</td>\n",
       "    </tr>\n",
       "    <tr>\n",
       "      <th>logit_bow</th>\n",
       "      <td>0.843811</td>\n",
       "      <td>0.844293</td>\n",
       "    </tr>\n",
       "    <tr>\n",
       "      <th>logit_tf-idf</th>\n",
       "      <td>0.848984</td>\n",
       "      <td>0.849601</td>\n",
       "    </tr>\n",
       "    <tr>\n",
       "      <th>xg_one_hot</th>\n",
       "      <td>0.899372</td>\n",
       "      <td>0.922734</td>\n",
       "    </tr>\n",
       "    <tr>\n",
       "      <th>xg_bow</th>\n",
       "      <td>0.905882</td>\n",
       "      <td>0.926948</td>\n",
       "    </tr>\n",
       "    <tr>\n",
       "      <th>xg_tf-idf</th>\n",
       "      <td>0.905787</td>\n",
       "      <td>0.926300</td>\n",
       "    </tr>\n",
       "    <tr>\n",
       "      <th>vanilla_NN</th>\n",
       "      <td>0.933430</td>\n",
       "      <td>0.889996</td>\n",
       "    </tr>\n",
       "    <tr>\n",
       "      <th>glove_CNN</th>\n",
       "      <td>0.956133</td>\n",
       "      <td>0.903570</td>\n",
       "    </tr>\n",
       "  </tbody>\n",
       "</table>\n",
       "</div>"
      ],
      "text/plain": [
       "               train_acc  test_acc\n",
       "model_name                        \n",
       "nb_one_hot      0.812101  0.809651\n",
       "nb_bow          0.824093  0.820996\n",
       "nb_tf-idf       0.803660  0.804587\n",
       "rf_one_hot      0.892471  0.918115\n",
       "rf_bow          0.897373  0.920911\n",
       "rf_tf-idf       0.898481  0.920060\n",
       "logit_one_hot   0.835843  0.836109\n",
       "logit_bow       0.843811  0.844293\n",
       "logit_tf-idf    0.848984  0.849601\n",
       "xg_one_hot      0.899372  0.922734\n",
       "xg_bow          0.905882  0.926948\n",
       "xg_tf-idf       0.905787  0.926300\n",
       "vanilla_NN      0.933430  0.889996\n",
       "glove_CNN       0.956133  0.903570"
      ]
     },
     "execution_count": 5,
     "metadata": {},
     "output_type": "execute_result"
    }
   ],
   "source": [
    "all_df"
   ]
  },
  {
   "cell_type": "code",
   "execution_count": 6,
   "metadata": {
    "execution": {
     "iopub.execute_input": "2020-08-24T17:55:24.339976Z",
     "iopub.status.busy": "2020-08-24T17:55:24.339164Z",
     "iopub.status.idle": "2020-08-24T17:55:24.682935Z",
     "shell.execute_reply": "2020-08-24T17:55:24.682144Z"
    },
    "papermill": {
     "duration": 0.357196,
     "end_time": "2020-08-24T17:55:24.683087",
     "exception": false,
     "start_time": "2020-08-24T17:55:24.325891",
     "status": "completed"
    },
    "tags": []
   },
   "outputs": [
    {
     "data": {
      "image/png": "[encoded data removed]",
      "text/plain": [
       "<Figure size 432x288 with 1 Axes>"
      ]
     },
     "metadata": {
      "needs_background": "light"
     },
     "output_type": "display_data"
    }
   ],
   "source": [
    "#plt.figure({figsize=(30,15)})\n",
    "\n",
    "all_df.plot.bar()\n",
    "\n",
    "plt.rcParams[\"figure.figsize\"] = [20, 5]"
   ]
  }
 ],
 "metadata": {
  "kernelspec": {
   "display_name": "Python 3",
   "language": "python",
   "name": "python3"
  },
  "language_info": {
   "codemirror_mode": {
    "name": "ipython",
    "version": 3
   },
   "file_extension": ".py",
   "mimetype": "text/x-python",
   "name": "python",
   "nbconvert_exporter": "python",
   "pygments_lexer": "ipython3",
   "version": "3.7.6"
  },
  "papermill": {
   "duration": 6.325643,
   "end_time": "2020-08-24T17:55:24.800330",
   "environment_variables": {},
   "exception": null,
   "input_path": "__notebook__.ipynb",
   "output_path": "__notebook__.ipynb",
   "parameters": {},
   "start_time": "2020-08-24T17:55:18.474687",
   "version": "2.1.0"
  }
 },
 "nbformat": 4,
 "nbformat_minor": 4
}
