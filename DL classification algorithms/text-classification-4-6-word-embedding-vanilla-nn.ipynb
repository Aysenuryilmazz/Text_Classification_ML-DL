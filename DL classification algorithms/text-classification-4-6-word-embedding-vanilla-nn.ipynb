{
 "cells": [
  {
   "cell_type": "code",
   "execution_count": 1,
   "metadata": {
    "_cell_guid": "b1076dfc-b9ad-4769-8c92-a6c4dae69d19",
    "_uuid": "8f2839f25d086af736a60e9eeb907d3b93b6e0e5",
    "execution": {
     "iopub.execute_input": "2020-08-24T00:39:41.642417Z",
     "iopub.status.busy": "2020-08-24T00:39:41.641681Z",
     "iopub.status.idle": "2020-08-24T00:39:47.827121Z",
     "shell.execute_reply": "2020-08-24T00:39:47.825478Z"
    },
    "papermill": {
     "duration": 6.201233,
     "end_time": "2020-08-24T00:39:47.827248",
     "exception": false,
     "start_time": "2020-08-24T00:39:41.626015",
     "status": "completed"
    },
    "tags": []
   },
   "outputs": [],
   "source": [
    "import pickle\n",
    "import pandas as pd\n",
    "import numpy as np\n",
    "from keras.preprocessing.text import Tokenizer\n",
    "from keras.preprocessing.sequence import pad_sequences\n",
    "import gzip"
   ]
  },
  {
   "cell_type": "code",
   "execution_count": 2,
   "metadata": {
    "_cell_guid": "79c7e3d0-c299-4dcb-8224-4455121ee9b0",
    "_uuid": "d629ff2d2480ee46fbb7e2d37f6b5fab8052498a",
    "execution": {
     "iopub.execute_input": "2020-08-24T00:39:47.852176Z",
     "iopub.status.busy": "2020-08-24T00:39:47.851526Z",
     "iopub.status.idle": "2020-08-24T00:39:48.045979Z",
     "shell.execute_reply": "2020-08-24T00:39:48.044855Z"
    },
    "papermill": {
     "duration": 0.208788,
     "end_time": "2020-08-24T00:39:48.046113",
     "exception": false,
     "start_time": "2020-08-24T00:39:47.837325",
     "status": "completed"
    },
    "tags": []
   },
   "outputs": [],
   "source": [
    "#load datasets\n",
    "\n",
    "with open(\"../input/text-classification-2-feature-engineering/df_train.pkl\", 'rb') as data:\n",
    "    df_train = pickle.load(data)\n",
    "\n",
    "\n",
    "with open(\"../input/text-classification-2-feature-engineering/df_test.pkl\", 'rb') as data:\n",
    "    df_test = pickle.load(data)\n",
    "    "
   ]
  },
  {
   "cell_type": "code",
   "execution_count": 3,
   "metadata": {
    "execution": {
     "iopub.execute_input": "2020-08-24T00:39:48.076299Z",
     "iopub.status.busy": "2020-08-24T00:39:48.074443Z",
     "iopub.status.idle": "2020-08-24T00:39:48.077017Z",
     "shell.execute_reply": "2020-08-24T00:39:48.077478Z"
    },
    "papermill": {
     "duration": 0.021083,
     "end_time": "2020-08-24T00:39:48.077628",
     "exception": false,
     "start_time": "2020-08-24T00:39:48.056545",
     "status": "completed"
    },
    "tags": []
   },
   "outputs": [],
   "source": [
    "train_reviews = df_train['review_parsed'].values\n",
    "test_reviews = df_test['review_parsed'].values\n",
    "\n",
    "y_train = df_train['condition'].values\n",
    "y_test = df_test['condition'].values"
   ]
  },
  {
   "cell_type": "code",
   "execution_count": 4,
   "metadata": {
    "execution": {
     "iopub.execute_input": "2020-08-24T00:39:48.103081Z",
     "iopub.status.busy": "2020-08-24T00:39:48.102290Z",
     "iopub.status.idle": "2020-08-24T00:39:48.109273Z",
     "shell.execute_reply": "2020-08-24T00:39:48.108221Z"
    },
    "papermill": {
     "duration": 0.022014,
     "end_time": "2020-08-24T00:39:48.109430",
     "exception": false,
     "start_time": "2020-08-24T00:39:48.087416",
     "status": "completed"
    },
    "tags": []
   },
   "outputs": [
    {
     "name": "stdout",
     "output_type": "stream",
     "text": [
      "[5 5 8 ... 6 4 4]\n",
      "<class 'numpy.ndarray'>\n"
     ]
    }
   ],
   "source": [
    "print(y_train)\n",
    "print(type(train_reviews))"
   ]
  },
  {
   "cell_type": "code",
   "execution_count": 5,
   "metadata": {
    "execution": {
     "iopub.execute_input": "2020-08-24T00:39:48.148635Z",
     "iopub.status.busy": "2020-08-24T00:39:48.147665Z",
     "iopub.status.idle": "2020-08-24T00:39:56.311968Z",
     "shell.execute_reply": "2020-08-24T00:39:56.313201Z"
    },
    "papermill": {
     "duration": 8.190023,
     "end_time": "2020-08-24T00:39:56.313363",
     "exception": false,
     "start_time": "2020-08-24T00:39:48.123340",
     "status": "completed"
    },
    "tags": []
   },
   "outputs": [
    {
     "name": "stdout",
     "output_type": "stream",
     "text": [
      "severe lower back pain take  first dose last night  caffiene   keep  awake  night take another dose  morning  caffiene make  heart feel like  beat    chestthe codiene   medicine  help  back paini eat   take     upset  stomach    talk   doctor  switch  something else id  rather  plain old hydrocodone  caffiene \n",
      "[105, 311, 34, 21, 1, 12, 99, 57, 79, 118, 580, 79, 1, 186, 99, 152, 22, 373, 7, 15, 1136, 71, 29, 34, 74, 1, 575, 232, 345, 38, 96, 175, 276, 252, 540, 2593, 123, 1428]\n"
     ]
    }
   ],
   "source": [
    "tokenizer = Tokenizer(num_words=5000)\n",
    "tokenizer.fit_on_texts(train_reviews)\n",
    "\n",
    "X_train = tokenizer.texts_to_sequences(train_reviews)\n",
    "X_test = tokenizer.texts_to_sequences(test_reviews)\n",
    "\n",
    "vocab_size = len(tokenizer.word_index) + 1  # Adding 1 because of reserved 0 index\n",
    "\n",
    "#look at example\n",
    "print(train_reviews[2])\n",
    "print(X_train[2])"
   ]
  },
  {
   "cell_type": "code",
   "execution_count": 6,
   "metadata": {
    "execution": {
     "iopub.execute_input": "2020-08-24T00:39:56.359188Z",
     "iopub.status.busy": "2020-08-24T00:39:56.358290Z",
     "iopub.status.idle": "2020-08-24T00:39:58.007571Z",
     "shell.execute_reply": "2020-08-24T00:39:58.006699Z"
    },
    "papermill": {
     "duration": 1.674689,
     "end_time": "2020-08-24T00:39:58.007714",
     "exception": false,
     "start_time": "2020-08-24T00:39:56.333025",
     "status": "completed"
    },
    "tags": []
   },
   "outputs": [
    {
     "name": "stdout",
     "output_type": "stream",
     "text": [
      "[ 94 338 534  17 352  55 358  37   1 544  63  44  29  82  27 175  53  25\n",
      " 338 238 101  99  17  22 259   8  51  35 279  25  29  48  18 498   0   0\n",
      "   0   0   0   0   0   0   0   0   0   0   0   0   0   0   0   0   0   0\n",
      "   0   0   0   0   0   0   0   0   0   0   0   0   0   0   0   0   0   0\n",
      "   0   0   0   0   0   0   0   0   0   0   0   0   0   0   0   0   0   0\n",
      "   0   0   0   0   0   0   0   0   0   0]\n"
     ]
    }
   ],
   "source": [
    "#nn'ne verirken review uzunluklarını eşitliyoruz\n",
    "maxlen = 100\n",
    "\n",
    "X_train = pad_sequences(X_train, padding='post', maxlen=maxlen)\n",
    "X_test = pad_sequences(X_test, padding='post', maxlen=maxlen)\n",
    "\n",
    "print(X_train[0, :])"
   ]
  },
  {
   "cell_type": "code",
   "execution_count": 7,
   "metadata": {
    "execution": {
     "iopub.execute_input": "2020-08-24T00:39:58.038207Z",
     "iopub.status.busy": "2020-08-24T00:39:58.037148Z",
     "iopub.status.idle": "2020-08-24T00:39:58.042094Z",
     "shell.execute_reply": "2020-08-24T00:39:58.042530Z"
    },
    "papermill": {
     "duration": 0.021977,
     "end_time": "2020-08-24T00:39:58.042690",
     "exception": false,
     "start_time": "2020-08-24T00:39:58.020713",
     "status": "completed"
    },
    "tags": []
   },
   "outputs": [],
   "source": [
    "from keras.utils import to_categorical\n",
    "\n",
    "# Convert the labels to one_hot_category values\n",
    "y_train_1hot = to_categorical(y_train, num_classes = 10)\n",
    "y_test_1hot = to_categorical(y_test, num_classes = 10)"
   ]
  },
  {
   "cell_type": "code",
   "execution_count": 8,
   "metadata": {
    "execution": {
     "iopub.execute_input": "2020-08-24T00:39:58.071188Z",
     "iopub.status.busy": "2020-08-24T00:39:58.070399Z",
     "iopub.status.idle": "2020-08-24T00:39:58.075181Z",
     "shell.execute_reply": "2020-08-24T00:39:58.075837Z"
    },
    "papermill": {
     "duration": 0.02201,
     "end_time": "2020-08-24T00:39:58.076006",
     "exception": false,
     "start_time": "2020-08-24T00:39:58.053996",
     "status": "completed"
    },
    "tags": []
   },
   "outputs": [
    {
     "name": "stdout",
     "output_type": "stream",
     "text": [
      "5\n",
      "[0. 0. 0. 0. 0. 1. 0. 0. 0. 0.]\n"
     ]
    }
   ],
   "source": [
    "print(y_train[0])\n",
    "print(y_train_1hot[0])"
   ]
  },
  {
   "cell_type": "code",
   "execution_count": 9,
   "metadata": {
    "execution": {
     "iopub.execute_input": "2020-08-24T00:39:58.112620Z",
     "iopub.status.busy": "2020-08-24T00:39:58.110869Z",
     "iopub.status.idle": "2020-08-24T00:39:58.113380Z",
     "shell.execute_reply": "2020-08-24T00:39:58.113854Z"
    },
    "papermill": {
     "duration": 0.025822,
     "end_time": "2020-08-24T00:39:58.113992",
     "exception": false,
     "start_time": "2020-08-24T00:39:58.088170",
     "status": "completed"
    },
    "tags": []
   },
   "outputs": [],
   "source": [
    "import matplotlib.pyplot as plt\n",
    "plt.style.use('ggplot')\n",
    "\n",
    "def plot_history(history):\n",
    "    acc = history.history['categorical_accuracy']\n",
    "    val_acc = history.history['val_categorical_accuracy']\n",
    "    loss = history.history['loss']\n",
    "    val_loss = history.history['val_loss']\n",
    "    x = range(1, len(acc) + 1)\n",
    "\n",
    "    plt.figure(figsize=(12, 5))\n",
    "    plt.subplot(1, 2, 1)\n",
    "    plt.plot(x, acc, 'b', label='Training acc')\n",
    "    plt.plot(x, val_acc, 'r', label='Validation acc')\n",
    "    plt.title('Training and validation accuracy')\n",
    "    plt.legend()\n",
    "    plt.subplot(1, 2, 2)\n",
    "    plt.plot(x, loss, 'b', label='Training loss')\n",
    "    plt.plot(x, val_loss, 'r', label='Validation loss')\n",
    "    plt.title('Training and validation loss')\n",
    "    plt.legend()"
   ]
  },
  {
   "cell_type": "code",
   "execution_count": 10,
   "metadata": {
    "execution": {
     "iopub.execute_input": "2020-08-24T00:39:58.146023Z",
     "iopub.status.busy": "2020-08-24T00:39:58.145310Z",
     "iopub.status.idle": "2020-08-24T00:40:01.180900Z",
     "shell.execute_reply": "2020-08-24T00:40:01.179966Z"
    },
    "papermill": {
     "duration": 3.055202,
     "end_time": "2020-08-24T00:40:01.181059",
     "exception": false,
     "start_time": "2020-08-24T00:39:58.125857",
     "status": "completed"
    },
    "tags": []
   },
   "outputs": [
    {
     "name": "stdout",
     "output_type": "stream",
     "text": [
      "Model: \"sequential\"\n",
      "_________________________________________________________________\n",
      "Layer (type)                 Output Shape              Param #   \n",
      "=================================================================\n",
      "embedding (Embedding)        (None, 100, 50)           1688150   \n",
      "_________________________________________________________________\n",
      "global_max_pooling1d (Global (None, 50)                0         \n",
      "_________________________________________________________________\n",
      "dropout (Dropout)            (None, 50)                0         \n",
      "_________________________________________________________________\n",
      "dense (Dense)                (None, 50)                2550      \n",
      "_________________________________________________________________\n",
      "dense_1 (Dense)              (None, 10)                510       \n",
      "=================================================================\n",
      "Total params: 1,691,210\n",
      "Trainable params: 1,691,210\n",
      "Non-trainable params: 0\n",
      "_________________________________________________________________\n"
     ]
    }
   ],
   "source": [
    "# word embedding + vanilla NN\n",
    "from keras.models import Sequential\n",
    "from keras import layers\n",
    "\n",
    "embedding_dim = 50\n",
    "\n",
    "model = Sequential()\n",
    "model.add(layers.Embedding(input_dim=vocab_size, \n",
    "                           output_dim=embedding_dim, \n",
    "                           input_length=maxlen))\n",
    "model.add(layers.GlobalMaxPool1D())\n",
    "model.add(layers.Dropout(0.5))\n",
    "model.add(layers.Dense(50,activation='relu'))\n",
    "model.add(layers.Dense(10, activation='softmax'))\n",
    "model.compile(optimizer='adam',\n",
    "              loss='binary_crossentropy',\n",
    "              metrics=['categorical_accuracy'])\n",
    "model.summary()"
   ]
  },
  {
   "cell_type": "code",
   "execution_count": 11,
   "metadata": {
    "execution": {
     "iopub.execute_input": "2020-08-24T00:40:01.214858Z",
     "iopub.status.busy": "2020-08-24T00:40:01.214114Z",
     "iopub.status.idle": "2020-08-24T00:41:17.892873Z",
     "shell.execute_reply": "2020-08-24T00:41:17.893343Z"
    },
    "papermill": {
     "duration": 76.699412,
     "end_time": "2020-08-24T00:41:17.893479",
     "exception": false,
     "start_time": "2020-08-24T00:40:01.194067",
     "status": "completed"
    },
    "tags": []
   },
   "outputs": [
    {
     "name": "stdout",
     "output_type": "stream",
     "text": [
      "Epoch 1/20\n",
      "145/145 [==============================] - 4s 26ms/step - loss: 0.2633 - categorical_accuracy: 0.3960 - val_loss: 0.2041 - val_categorical_accuracy: 0.4943\n",
      "Epoch 2/20\n",
      "145/145 [==============================] - 3s 24ms/step - loss: 0.1770 - categorical_accuracy: 0.6030 - val_loss: 0.1343 - val_categorical_accuracy: 0.7082\n",
      "Epoch 3/20\n",
      "145/145 [==============================] - 3s 22ms/step - loss: 0.1300 - categorical_accuracy: 0.7323 - val_loss: 0.0928 - val_categorical_accuracy: 0.8248\n",
      "Epoch 4/20\n",
      "145/145 [==============================] - 3s 22ms/step - loss: 0.1065 - categorical_accuracy: 0.7846 - val_loss: 0.0797 - val_categorical_accuracy: 0.8442\n",
      "Epoch 5/20\n",
      "145/145 [==============================] - 3s 24ms/step - loss: 0.0961 - categorical_accuracy: 0.8059 - val_loss: 0.0737 - val_categorical_accuracy: 0.8547\n",
      "Epoch 6/20\n",
      "145/145 [==============================] - 3s 23ms/step - loss: 0.0895 - categorical_accuracy: 0.8219 - val_loss: 0.0705 - val_categorical_accuracy: 0.8589\n",
      "Epoch 7/20\n",
      "145/145 [==============================] - 3s 22ms/step - loss: 0.0850 - categorical_accuracy: 0.8305 - val_loss: 0.0681 - val_categorical_accuracy: 0.8633\n",
      "Epoch 8/20\n",
      "145/145 [==============================] - 4s 24ms/step - loss: 0.0811 - categorical_accuracy: 0.8387 - val_loss: 0.0659 - val_categorical_accuracy: 0.8677\n",
      "Epoch 9/20\n",
      "145/145 [==============================] - 3s 24ms/step - loss: 0.0784 - categorical_accuracy: 0.8466 - val_loss: 0.0647 - val_categorical_accuracy: 0.8695\n",
      "Epoch 10/20\n",
      "145/145 [==============================] - 3s 24ms/step - loss: 0.0753 - categorical_accuracy: 0.8526 - val_loss: 0.0639 - val_categorical_accuracy: 0.8720\n",
      "Epoch 11/20\n",
      "145/145 [==============================] - 4s 26ms/step - loss: 0.0734 - categorical_accuracy: 0.8563 - val_loss: 0.0625 - val_categorical_accuracy: 0.8745\n",
      "Epoch 12/20\n",
      "145/145 [==============================] - 4s 24ms/step - loss: 0.0709 - categorical_accuracy: 0.8618 - val_loss: 0.0615 - val_categorical_accuracy: 0.8761\n",
      "Epoch 13/20\n",
      "145/145 [==============================] - 4s 26ms/step - loss: 0.0693 - categorical_accuracy: 0.8658 - val_loss: 0.0608 - val_categorical_accuracy: 0.8785\n",
      "Epoch 14/20\n",
      "145/145 [==============================] - 4s 25ms/step - loss: 0.0673 - categorical_accuracy: 0.8699 - val_loss: 0.0597 - val_categorical_accuracy: 0.8816\n",
      "Epoch 15/20\n",
      "145/145 [==============================] - 3s 23ms/step - loss: 0.0657 - categorical_accuracy: 0.8735 - val_loss: 0.0592 - val_categorical_accuracy: 0.8827\n",
      "Epoch 16/20\n",
      "145/145 [==============================] - 3s 22ms/step - loss: 0.0640 - categorical_accuracy: 0.8757 - val_loss: 0.0588 - val_categorical_accuracy: 0.8832\n",
      "Epoch 17/20\n",
      "145/145 [==============================] - 3s 24ms/step - loss: 0.0628 - categorical_accuracy: 0.8769 - val_loss: 0.0581 - val_categorical_accuracy: 0.8855\n",
      "Epoch 18/20\n",
      "145/145 [==============================] - 4s 25ms/step - loss: 0.0610 - categorical_accuracy: 0.8830 - val_loss: 0.0577 - val_categorical_accuracy: 0.8864\n",
      "Epoch 19/20\n",
      "145/145 [==============================] - 4s 24ms/step - loss: 0.0600 - categorical_accuracy: 0.8846 - val_loss: 0.0573 - val_categorical_accuracy: 0.8878\n",
      "Epoch 20/20\n",
      "145/145 [==============================] - 3s 23ms/step - loss: 0.0595 - categorical_accuracy: 0.8860 - val_loss: 0.0566 - val_categorical_accuracy: 0.8906\n",
      "Training Accuracy: 0.9365\n",
      "Testing Accuracy:  0.8906\n"
     ]
    },
    {
     "data": {
      "image/png": "[encoded data removed]",
      "text/plain": [
       "<Figure size 864x360 with 2 Axes>"
      ]
     },
     "metadata": {},
     "output_type": "display_data"
    }
   ],
   "source": [
    "history = model.fit(X_train, y_train_1hot,\n",
    "                    epochs=20,\n",
    "                    verbose=True,\n",
    "                    validation_data=(X_test, y_test_1hot),\n",
    "                    batch_size=512)\n",
    "\n",
    "loss_train, accuracy_train = model.evaluate(X_train, y_train_1hot, verbose=False)\n",
    "print(\"Training Accuracy: {:.4f}\".format(accuracy_train))\n",
    "\n",
    "loss_test, accuracy_test = model.evaluate(X_test, y_test_1hot, verbose=False)\n",
    "print(\"Testing Accuracy:  {:.4f}\".format(accuracy_test))\n",
    "\n",
    "plot_history(history)"
   ]
  },
  {
   "cell_type": "code",
   "execution_count": 12,
   "metadata": {
    "execution": {
     "iopub.execute_input": "2020-08-24T00:41:18.645034Z",
     "iopub.status.busy": "2020-08-24T00:41:18.643847Z",
     "iopub.status.idle": "2020-08-24T00:41:18.647130Z",
     "shell.execute_reply": "2020-08-24T00:41:18.646637Z"
    },
    "papermill": {
     "duration": 0.380207,
     "end_time": "2020-08-24T00:41:18.647239",
     "exception": false,
     "start_time": "2020-08-24T00:41:18.267032",
     "status": "completed"
    },
    "tags": []
   },
   "outputs": [],
   "source": [
    "res_final_df=pd.DataFrame({'model_name': 'vanilla_NN', 'train_acc': accuracy_train, 'test_acc': accuracy_test}, index=[0])\n"
   ]
  },
  {
   "cell_type": "code",
   "execution_count": 13,
   "metadata": {
    "execution": {
     "iopub.execute_input": "2020-08-24T00:41:19.401182Z",
     "iopub.status.busy": "2020-08-24T00:41:19.400248Z",
     "iopub.status.idle": "2020-08-24T00:41:19.499914Z",
     "shell.execute_reply": "2020-08-24T00:41:19.498454Z"
    },
    "papermill": {
     "duration": 0.481471,
     "end_time": "2020-08-24T00:41:19.500039",
     "exception": false,
     "start_time": "2020-08-24T00:41:19.018568",
     "status": "completed"
    },
    "tags": []
   },
   "outputs": [],
   "source": [
    "#save best model\n",
    "model.save(\"vanilla_nn.h5\")\n",
    "\n",
    "#pickle results\n",
    "with gzip.open('vanilla_nn_results.pkl', 'wb') as output:\n",
    "    pickle.dump(res_final_df, output, protocol=-1)\n",
    "\n",
    "        \n",
    "#pickle tokenizer  \n",
    "with open('keras-tokenizer.pkl', 'wb') as output:\n",
    "    pickle.dump(tokenizer, output, protocol=-1)\n"
   ]
  }
 ],
 "metadata": {
  "kernelspec": {
   "display_name": "Python 3",
   "language": "python",
   "name": "python3"
  },
  "language_info": {
   "codemirror_mode": {
    "name": "ipython",
    "version": 3
   },
   "file_extension": ".py",
   "mimetype": "text/x-python",
   "name": "python",
   "nbconvert_exporter": "python",
   "pygments_lexer": "ipython3",
   "version": "3.7.6"
  },
  "papermill": {
   "duration": 104.007997,
   "end_time": "2020-08-24T00:41:20.897300",
   "environment_variables": {},
   "exception": null,
   "input_path": "__notebook__.ipynb",
   "output_path": "__notebook__.ipynb",
   "parameters": {},
   "start_time": "2020-08-24T00:39:36.889303",
   "version": "2.1.0"
  }
 },
 "nbformat": 4,
 "nbformat_minor": 4
}
