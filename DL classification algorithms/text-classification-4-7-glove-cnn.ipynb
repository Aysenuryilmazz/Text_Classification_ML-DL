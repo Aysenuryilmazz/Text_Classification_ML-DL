{
 "cells": [
  {
   "cell_type": "code",
   "execution_count": 1,
   "metadata": {
    "_cell_guid": "b1076dfc-b9ad-4769-8c92-a6c4dae69d19",
    "_uuid": "8f2839f25d086af736a60e9eeb907d3b93b6e0e5",
    "execution": {
     "iopub.execute_input": "2020-08-28T13:07:20.987643Z",
     "iopub.status.busy": "2020-08-28T13:07:20.986999Z",
     "iopub.status.idle": "2020-08-28T13:07:26.973081Z",
     "shell.execute_reply": "2020-08-28T13:07:26.972463Z"
    },
    "papermill": {
     "duration": 6.002753,
     "end_time": "2020-08-28T13:07:26.973209",
     "exception": false,
     "start_time": "2020-08-28T13:07:20.970456",
     "status": "completed"
    },
    "tags": []
   },
   "outputs": [],
   "source": [
    "import pickle\n",
    "import pandas as pd\n",
    "import numpy as np\n",
    "from keras.preprocessing.text import Tokenizer\n",
    "from keras.preprocessing.sequence import pad_sequences\n",
    "from keras.models import Sequential\n",
    "from keras import layers\n",
    "import gzip"
   ]
  },
  {
   "cell_type": "code",
   "execution_count": 2,
   "metadata": {
    "execution": {
     "iopub.execute_input": "2020-08-28T13:07:26.999021Z",
     "iopub.status.busy": "2020-08-28T13:07:26.998352Z",
     "iopub.status.idle": "2020-08-28T13:07:27.182237Z",
     "shell.execute_reply": "2020-08-28T13:07:27.181085Z"
    },
    "papermill": {
     "duration": 0.19843,
     "end_time": "2020-08-28T13:07:27.182362",
     "exception": false,
     "start_time": "2020-08-28T13:07:26.983932",
     "status": "completed"
    },
    "tags": []
   },
   "outputs": [],
   "source": [
    "#load datasets\n",
    "\n",
    "with open(\"../input/text-classification-2-feature-engineering/df_train.pkl\", 'rb') as data:\n",
    "    df_train = pickle.load(data)\n",
    "\n",
    "\n",
    "with open(\"../input/text-classification-2-feature-engineering/df_test.pkl\", 'rb') as data:\n",
    "    df_test = pickle.load(data)\n",
    "    "
   ]
  },
  {
   "cell_type": "code",
   "execution_count": 3,
   "metadata": {
    "execution": {
     "iopub.execute_input": "2020-08-28T13:07:27.212961Z",
     "iopub.status.busy": "2020-08-28T13:07:27.210869Z",
     "iopub.status.idle": "2020-08-28T13:07:27.213713Z",
     "shell.execute_reply": "2020-08-28T13:07:27.214263Z"
    },
    "papermill": {
     "duration": 0.021496,
     "end_time": "2020-08-28T13:07:27.214396",
     "exception": false,
     "start_time": "2020-08-28T13:07:27.192900",
     "status": "completed"
    },
    "tags": []
   },
   "outputs": [],
   "source": [
    "train_reviews = df_train['review_parsed'].values\n",
    "test_reviews = df_test['review_parsed'].values\n",
    "\n",
    "y_train = df_train['condition'].values\n",
    "y_test = df_test['condition'].values"
   ]
  },
  {
   "cell_type": "code",
   "execution_count": 4,
   "metadata": {
    "execution": {
     "iopub.execute_input": "2020-08-28T13:07:27.259196Z",
     "iopub.status.busy": "2020-08-28T13:07:27.248897Z",
     "iopub.status.idle": "2020-08-28T13:07:35.462552Z",
     "shell.execute_reply": "2020-08-28T13:07:35.463152Z"
    },
    "papermill": {
     "duration": 8.237344,
     "end_time": "2020-08-28T13:07:35.463292",
     "exception": false,
     "start_time": "2020-08-28T13:07:27.225948",
     "status": "completed"
    },
    "tags": []
   },
   "outputs": [
    {
     "name": "stdout",
     "output_type": "stream",
     "text": [
      "severe lower back pain take  first dose last night  caffiene   keep  awake  night take another dose  morning  caffiene make  heart feel like  beat    chestthe codiene   medicine  help  back paini eat   take     upset  stomach    talk   doctor  switch  something else id  rather  plain old hydrocodone  caffiene \n",
      "[105, 311, 34, 21, 1, 12, 99, 57, 79, 118, 580, 79, 1, 186, 99, 152, 22, 373, 7, 15, 1136, 71, 29, 34, 74, 1, 575, 232, 345, 38, 96, 175, 276, 252, 540, 2593, 123, 1428]\n"
     ]
    }
   ],
   "source": [
    "tokenizer = Tokenizer(num_words=5000)\n",
    "tokenizer.fit_on_texts(train_reviews)\n",
    "\n",
    "X_train = tokenizer.texts_to_sequences(train_reviews)\n",
    "X_test = tokenizer.texts_to_sequences(test_reviews)\n",
    "\n",
    "vocab_size = len(tokenizer.word_index) + 1  # Adding 1 because of reserved 0 index\n",
    "\n",
    "#look at example\n",
    "print(train_reviews[2])\n",
    "print(X_train[2])"
   ]
  },
  {
   "cell_type": "code",
   "execution_count": 5,
   "metadata": {
    "execution": {
     "iopub.execute_input": "2020-08-28T13:07:35.508608Z",
     "iopub.status.busy": "2020-08-28T13:07:35.507265Z",
     "iopub.status.idle": "2020-08-28T13:07:37.288581Z",
     "shell.execute_reply": "2020-08-28T13:07:37.289685Z"
    },
    "papermill": {
     "duration": 1.814892,
     "end_time": "2020-08-28T13:07:37.289857",
     "exception": false,
     "start_time": "2020-08-28T13:07:35.474965",
     "status": "completed"
    },
    "tags": []
   },
   "outputs": [
    {
     "name": "stdout",
     "output_type": "stream",
     "text": [
      "[ 94 338 534  17 352  55 358  37   1 544  63  44  29  82  27 175  53  25\n",
      " 338 238 101  99  17  22 259   8  51  35 279  25  29  48  18 498   0   0\n",
      "   0   0   0   0   0   0   0   0   0   0   0   0   0   0   0   0   0   0\n",
      "   0   0   0   0   0   0   0   0   0   0   0   0   0   0   0   0   0   0\n",
      "   0   0   0   0   0   0   0   0   0   0   0   0   0   0   0   0   0   0\n",
      "   0   0   0   0   0   0   0   0   0   0]\n"
     ]
    }
   ],
   "source": [
    "#nn'ne verirken review uzunluklarını eşitliyoruz\n",
    "maxlen = 100\n",
    "\n",
    "X_train = pad_sequences(X_train, padding='post', maxlen=maxlen)\n",
    "X_test = pad_sequences(X_test, padding='post', maxlen=maxlen)\n",
    "\n",
    "print(X_train[0, :])"
   ]
  },
  {
   "cell_type": "code",
   "execution_count": 6,
   "metadata": {
    "execution": {
     "iopub.execute_input": "2020-08-28T13:07:37.330578Z",
     "iopub.status.busy": "2020-08-28T13:07:37.329765Z",
     "iopub.status.idle": "2020-08-28T13:07:37.334129Z",
     "shell.execute_reply": "2020-08-28T13:07:37.334712Z"
    },
    "papermill": {
     "duration": 0.028851,
     "end_time": "2020-08-28T13:07:37.334852",
     "exception": false,
     "start_time": "2020-08-28T13:07:37.306001",
     "status": "completed"
    },
    "tags": []
   },
   "outputs": [],
   "source": [
    "from keras.utils import to_categorical\n",
    "\n",
    "# Convert the labels to one_hot_category values\n",
    "y_train_1hot = to_categorical(y_train, num_classes = 10)\n",
    "y_test_1hot = to_categorical(y_test, num_classes = 10)"
   ]
  },
  {
   "cell_type": "code",
   "execution_count": 7,
   "metadata": {
    "execution": {
     "iopub.execute_input": "2020-08-28T13:07:37.375019Z",
     "iopub.status.busy": "2020-08-28T13:07:37.374222Z",
     "iopub.status.idle": "2020-08-28T13:07:37.378813Z",
     "shell.execute_reply": "2020-08-28T13:07:37.380116Z"
    },
    "papermill": {
     "duration": 0.030096,
     "end_time": "2020-08-28T13:07:37.380268",
     "exception": false,
     "start_time": "2020-08-28T13:07:37.350172",
     "status": "completed"
    },
    "tags": []
   },
   "outputs": [],
   "source": [
    "\n",
    "def create_embedding_matrix(filepath, word_index, embedding_dim):\n",
    "    vocab_size = len(word_index) + 1  # Adding again 1 because of reserved 0 index\n",
    "    embedding_matrix = np.zeros((vocab_size, embedding_dim))\n",
    "\n",
    "    with open(filepath) as f:\n",
    "        for line in f:\n",
    "            word, *vector = line.split()\n",
    "            if word in word_index:\n",
    "                idx = word_index[word] \n",
    "                embedding_matrix[idx] = np.array(\n",
    "                    vector, dtype=np.float32)[:embedding_dim]\n",
    "\n",
    "    return embedding_matrix"
   ]
  },
  {
   "cell_type": "code",
   "execution_count": 8,
   "metadata": {
    "execution": {
     "iopub.execute_input": "2020-08-28T13:07:37.418157Z",
     "iopub.status.busy": "2020-08-28T13:07:37.417428Z",
     "iopub.status.idle": "2020-08-28T13:07:39.946762Z",
     "shell.execute_reply": "2020-08-28T13:07:39.945205Z"
    },
    "papermill": {
     "duration": 2.55051,
     "end_time": "2020-08-28T13:07:39.946894",
     "exception": false,
     "start_time": "2020-08-28T13:07:37.396384",
     "status": "completed"
    },
    "tags": []
   },
   "outputs": [],
   "source": [
    "embedding_dim = 50\n",
    "embedding_matrix = create_embedding_matrix('../input/glove6b/glove.6B.50d.txt',tokenizer.word_index, embedding_dim)"
   ]
  },
  {
   "cell_type": "code",
   "execution_count": 9,
   "metadata": {
    "execution": {
     "iopub.execute_input": "2020-08-28T13:07:39.977779Z",
     "iopub.status.busy": "2020-08-28T13:07:39.976872Z",
     "iopub.status.idle": "2020-08-28T13:07:39.990218Z",
     "shell.execute_reply": "2020-08-28T13:07:39.990759Z"
    },
    "papermill": {
     "duration": 0.031287,
     "end_time": "2020-08-28T13:07:39.990900",
     "exception": false,
     "start_time": "2020-08-28T13:07:39.959613",
     "status": "completed"
    },
    "tags": []
   },
   "outputs": [
    {
     "data": {
      "text/plain": [
       "0.46020791991233007"
      ]
     },
     "execution_count": 9,
     "metadata": {},
     "output_type": "execute_result"
    }
   ],
   "source": [
    "nonzero_elements = np.count_nonzero(np.count_nonzero(embedding_matrix, axis=1))\n",
    "nonzero_elements / vocab_size"
   ]
  },
  {
   "cell_type": "code",
   "execution_count": 10,
   "metadata": {
    "_cell_guid": "79c7e3d0-c299-4dcb-8224-4455121ee9b0",
    "_uuid": "d629ff2d2480ee46fbb7e2d37f6b5fab8052498a",
    "execution": {
     "iopub.execute_input": "2020-08-28T13:07:40.029621Z",
     "iopub.status.busy": "2020-08-28T13:07:40.028641Z",
     "iopub.status.idle": "2020-08-28T13:07:40.031839Z",
     "shell.execute_reply": "2020-08-28T13:07:40.031320Z"
    },
    "papermill": {
     "duration": 0.028054,
     "end_time": "2020-08-28T13:07:40.031945",
     "exception": false,
     "start_time": "2020-08-28T13:07:40.003891",
     "status": "completed"
    },
    "tags": []
   },
   "outputs": [],
   "source": [
    "import matplotlib.pyplot as plt\n",
    "plt.style.use('ggplot')\n",
    "\n",
    "def plot_history(history):\n",
    "    acc = history.history['categorical_accuracy']\n",
    "    val_acc = history.history['val_categorical_accuracy']\n",
    "    loss = history.history['loss']\n",
    "    val_loss = history.history['val_loss']\n",
    "    x = range(1, len(acc) + 1)\n",
    "\n",
    "    plt.figure(figsize=(12, 5))\n",
    "    plt.subplot(1, 2, 1)\n",
    "    plt.plot(x, acc, 'b', label='Training acc')\n",
    "    plt.plot(x, val_acc, 'r', label='Validation acc')\n",
    "    plt.title('Training and validation accuracy')\n",
    "    plt.legend()\n",
    "    plt.subplot(1, 2, 2)\n",
    "    plt.plot(x, loss, 'b', label='Training loss')\n",
    "    plt.plot(x, val_loss, 'r', label='Validation loss')\n",
    "    plt.title('Training and validation loss')\n",
    "    plt.legend()"
   ]
  },
  {
   "cell_type": "code",
   "execution_count": 11,
   "metadata": {
    "execution": {
     "iopub.execute_input": "2020-08-28T13:07:40.068622Z",
     "iopub.status.busy": "2020-08-28T13:07:40.067943Z",
     "iopub.status.idle": "2020-08-28T13:07:43.187768Z",
     "shell.execute_reply": "2020-08-28T13:07:43.187130Z"
    },
    "papermill": {
     "duration": 3.142938,
     "end_time": "2020-08-28T13:07:43.187919",
     "exception": false,
     "start_time": "2020-08-28T13:07:40.044981",
     "status": "completed"
    },
    "tags": []
   },
   "outputs": [
    {
     "name": "stdout",
     "output_type": "stream",
     "text": [
      "Model: \"sequential\"\n",
      "_________________________________________________________________\n",
      "Layer (type)                 Output Shape              Param #   \n",
      "=================================================================\n",
      "embedding (Embedding)        (None, 100, 50)           1688150   \n",
      "_________________________________________________________________\n",
      "conv1d (Conv1D)              (None, 98, 50)            7550      \n",
      "_________________________________________________________________\n",
      "max_pooling1d (MaxPooling1D) (None, 32, 50)            0         \n",
      "_________________________________________________________________\n",
      "dropout (Dropout)            (None, 32, 50)            0         \n",
      "_________________________________________________________________\n",
      "flatten (Flatten)            (None, 1600)              0         \n",
      "_________________________________________________________________\n",
      "dense (Dense)                (None, 50)                80050     \n",
      "_________________________________________________________________\n",
      "dense_1 (Dense)              (None, 10)                510       \n",
      "=================================================================\n",
      "Total params: 1,776,260\n",
      "Trainable params: 1,776,260\n",
      "Non-trainable params: 0\n",
      "_________________________________________________________________\n"
     ]
    }
   ],
   "source": [
    "model = Sequential()\n",
    "model.add(layers.Embedding(input_dim=vocab_size, output_dim=embedding_dim, weights=[embedding_matrix], input_length=maxlen, trainable=True))\n",
    "model.add(layers.Conv1D(filters=50, kernel_size=3, activation='relu'))\n",
    "model.add(layers.MaxPooling1D(3))\n",
    "model.add(layers.Dropout(0.5))\n",
    "model.add(layers.Flatten())\n",
    "model.add(layers.Dense(units=50, activation='relu'))\n",
    "model.add(layers.Dense(units=10, activation='softmax'))\n",
    "model.compile(optimizer='adam',\n",
    "              loss='categorical_crossentropy',\n",
    "              metrics=['categorical_accuracy'])\n",
    "model.summary()"
   ]
  },
  {
   "cell_type": "code",
   "execution_count": 12,
   "metadata": {
    "execution": {
     "iopub.execute_input": "2020-08-28T13:07:43.225544Z",
     "iopub.status.busy": "2020-08-28T13:07:43.224776Z",
     "iopub.status.idle": "2020-08-28T13:09:03.885567Z",
     "shell.execute_reply": "2020-08-28T13:09:03.886140Z"
    },
    "papermill": {
     "duration": 80.684862,
     "end_time": "2020-08-28T13:09:03.886314",
     "exception": false,
     "start_time": "2020-08-28T13:07:43.201452",
     "status": "completed"
    },
    "tags": []
   },
   "outputs": [
    {
     "name": "stdout",
     "output_type": "stream",
     "text": [
      "Epoch 1/20\n",
      "145/145 [==============================] - 4s 25ms/step - loss: 1.4650 - categorical_accuracy: 0.5093 - val_loss: 0.8563 - val_categorical_accuracy: 0.6957\n",
      "Epoch 2/20\n",
      "145/145 [==============================] - 4s 24ms/step - loss: 0.7526 - categorical_accuracy: 0.7281 - val_loss: 0.5798 - val_categorical_accuracy: 0.7886\n",
      "Epoch 3/20\n",
      "145/145 [==============================] - 3s 23ms/step - loss: 0.5716 - categorical_accuracy: 0.7923 - val_loss: 0.4792 - val_categorical_accuracy: 0.8253\n",
      "Epoch 4/20\n",
      "145/145 [==============================] - 3s 23ms/step - loss: 0.4861 - categorical_accuracy: 0.8229 - val_loss: 0.4311 - val_categorical_accuracy: 0.8440\n",
      "Epoch 5/20\n",
      "145/145 [==============================] - 3s 22ms/step - loss: 0.4364 - categorical_accuracy: 0.8410 - val_loss: 0.4040 - val_categorical_accuracy: 0.8528\n",
      "Epoch 6/20\n",
      "145/145 [==============================] - 3s 23ms/step - loss: 0.4048 - categorical_accuracy: 0.8527 - val_loss: 0.3800 - val_categorical_accuracy: 0.8633\n",
      "Epoch 7/20\n",
      "145/145 [==============================] - 4s 27ms/step - loss: 0.3818 - categorical_accuracy: 0.8597 - val_loss: 0.3632 - val_categorical_accuracy: 0.8674\n",
      "Epoch 8/20\n",
      "145/145 [==============================] - 4s 26ms/step - loss: 0.3563 - categorical_accuracy: 0.8700 - val_loss: 0.3543 - val_categorical_accuracy: 0.8689\n",
      "Epoch 9/20\n",
      "145/145 [==============================] - 3s 23ms/step - loss: 0.3410 - categorical_accuracy: 0.8756 - val_loss: 0.3437 - val_categorical_accuracy: 0.8754\n",
      "Epoch 10/20\n",
      "145/145 [==============================] - 4s 24ms/step - loss: 0.3262 - categorical_accuracy: 0.8806 - val_loss: 0.3451 - val_categorical_accuracy: 0.8742\n",
      "Epoch 11/20\n",
      "145/145 [==============================] - 4s 24ms/step - loss: 0.3102 - categorical_accuracy: 0.8852 - val_loss: 0.3339 - val_categorical_accuracy: 0.8801\n",
      "Epoch 12/20\n",
      "145/145 [==============================] - 3s 23ms/step - loss: 0.2987 - categorical_accuracy: 0.8893 - val_loss: 0.3280 - val_categorical_accuracy: 0.8831\n",
      "Epoch 13/20\n",
      "145/145 [==============================] - 4s 25ms/step - loss: 0.2888 - categorical_accuracy: 0.8934 - val_loss: 0.3201 - val_categorical_accuracy: 0.8854\n",
      "Epoch 14/20\n",
      "145/145 [==============================] - 3s 23ms/step - loss: 0.2768 - categorical_accuracy: 0.8972 - val_loss: 0.3167 - val_categorical_accuracy: 0.8887\n",
      "Epoch 15/20\n",
      "145/145 [==============================] - 3s 23ms/step - loss: 0.2682 - categorical_accuracy: 0.9006 - val_loss: 0.3128 - val_categorical_accuracy: 0.8907\n",
      "Epoch 16/20\n",
      "145/145 [==============================] - 4s 25ms/step - loss: 0.2594 - categorical_accuracy: 0.9044 - val_loss: 0.3077 - val_categorical_accuracy: 0.8935\n",
      "Epoch 17/20\n",
      "145/145 [==============================] - 3s 23ms/step - loss: 0.2504 - categorical_accuracy: 0.9073 - val_loss: 0.3072 - val_categorical_accuracy: 0.8954\n",
      "Epoch 18/20\n",
      "145/145 [==============================] - 3s 23ms/step - loss: 0.2428 - categorical_accuracy: 0.9099 - val_loss: 0.3033 - val_categorical_accuracy: 0.8971\n",
      "Epoch 19/20\n",
      "145/145 [==============================] - 4s 25ms/step - loss: 0.2348 - categorical_accuracy: 0.9144 - val_loss: 0.3000 - val_categorical_accuracy: 0.8982\n",
      "Epoch 20/20\n",
      "145/145 [==============================] - 3s 24ms/step - loss: 0.2279 - categorical_accuracy: 0.9160 - val_loss: 0.2997 - val_categorical_accuracy: 0.8984\n",
      "Training Accuracy: 0.9526\n",
      "Testing Accuracy:  0.8984\n"
     ]
    },
    {
     "data": {
      "image/png": "[encoded data removed]",
      "text/plain": [
       "<Figure size 864x360 with 2 Axes>"
      ]
     },
     "metadata": {},
     "output_type": "display_data"
    }
   ],
   "source": [
    "history = model.fit(X_train, y_train_1hot,\n",
    "                    epochs=20,\n",
    "                    verbose=True,\n",
    "                    validation_data=(X_test, y_test_1hot),\n",
    "                    batch_size=512)\n",
    "\n",
    "loss_train, accuracy_train = model.evaluate(X_train, y_train_1hot, verbose=False)\n",
    "print(\"Training Accuracy: {:.4f}\".format(accuracy_train))\n",
    "\n",
    "loss_test, accuracy_test = model.evaluate(X_test, y_test_1hot, verbose=False)\n",
    "print(\"Testing Accuracy:  {:.4f}\".format(accuracy_test))\n",
    "\n",
    "plot_history(history)"
   ]
  },
  {
   "cell_type": "code",
   "execution_count": 13,
   "metadata": {
    "execution": {
     "iopub.execute_input": "2020-08-28T13:09:04.807566Z",
     "iopub.status.busy": "2020-08-28T13:09:04.806614Z",
     "iopub.status.idle": "2020-08-28T13:09:04.811569Z",
     "shell.execute_reply": "2020-08-28T13:09:04.812331Z"
    },
    "papermill": {
     "duration": 0.515469,
     "end_time": "2020-08-28T13:09:04.812502",
     "exception": false,
     "start_time": "2020-08-28T13:09:04.297033",
     "status": "completed"
    },
    "tags": []
   },
   "outputs": [],
   "source": [
    "res_final_df=pd.DataFrame({'model_name': 'glove_CNN', 'train_acc': accuracy_train, 'test_acc': accuracy_test}, index=[0])"
   ]
  },
  {
   "cell_type": "code",
   "execution_count": 14,
   "metadata": {
    "execution": {
     "iopub.execute_input": "2020-08-28T13:09:05.656713Z",
     "iopub.status.busy": "2020-08-28T13:09:05.655756Z",
     "iopub.status.idle": "2020-08-28T13:09:05.776069Z",
     "shell.execute_reply": "2020-08-28T13:09:05.775186Z"
    },
    "papermill": {
     "duration": 0.504225,
     "end_time": "2020-08-28T13:09:05.776184",
     "exception": false,
     "start_time": "2020-08-28T13:09:05.271959",
     "status": "completed"
    },
    "tags": []
   },
   "outputs": [],
   "source": [
    "#save best model\n",
    "model.save(\"glove_cnn.h5\")\n",
    "\n",
    "#pickle results\n",
    "with gzip.open('glove_cnn_results.pkl', 'wb') as output:\n",
    "    pickle.dump(res_final_df, output, protocol=-1)\n",
    "    \n",
    "#pickle tokenizer  \n",
    "with open('keras-tokenizer.pkl', 'wb') as output:\n",
    "    pickle.dump(tokenizer, output, protocol=-1)\n",
    "\n",
    "#pickle embedding_matrix  \n",
    "with open('embedding_matrix.pkl', 'wb') as output:\n",
    "    pickle.dump(embedding_matrix, output, protocol=-1)\n",
    "\n",
    "    "
   ]
  }
 ],
 "metadata": {
  "kernelspec": {
   "display_name": "Python 3",
   "language": "python",
   "name": "python3"
  },
  "language_info": {
   "codemirror_mode": {
    "name": "ipython",
    "version": 3
   },
   "file_extension": ".py",
   "mimetype": "text/x-python",
   "name": "python",
   "nbconvert_exporter": "python",
   "pygments_lexer": "ipython3",
   "version": "3.7.6"
  },
  "papermill": {
   "duration": 110.943778,
   "end_time": "2020-08-28T13:09:07.466134",
   "environment_variables": {},
   "exception": null,
   "input_path": "__notebook__.ipynb",
   "output_path": "__notebook__.ipynb",
   "parameters": {},
   "start_time": "2020-08-28T13:07:16.522356",
   "version": "2.1.0"
  }
 },
 "nbformat": 4,
 "nbformat_minor": 4
}
